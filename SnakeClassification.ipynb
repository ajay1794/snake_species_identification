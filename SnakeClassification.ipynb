{
 "cells": [
  {
   "cell_type": "code",
   "execution_count": 1,
   "metadata": {},
   "outputs": [
    {
     "name": "stdout",
     "output_type": "stream",
     "text": [
      "WARNING:tensorflow:From C:\\Users\\Ajay\\AppData\\Roaming\\Python\\Python311\\site-packages\\keras\\src\\losses.py:2976: The name tf.losses.sparse_softmax_cross_entropy is deprecated. Please use tf.compat.v1.losses.sparse_softmax_cross_entropy instead.\n",
      "\n"
     ]
    }
   ],
   "source": [
    "import tensorflow as tf"
   ]
  },
  {
   "cell_type": "code",
   "execution_count": 2,
   "metadata": {},
   "outputs": [
    {
     "name": "stdout",
     "output_type": "stream",
     "text": [
      "Found 1780 files belonging to 13 classes.\n"
     ]
    },
    {
     "data": {
      "text/plain": [
       "['Banded Racer',\n",
       " 'Checkered Keelback',\n",
       " 'Common Krait',\n",
       " 'Common Rat Snake',\n",
       " 'Common Sand Boa',\n",
       " 'Common Trinket',\n",
       " 'Green Tree Vine',\n",
       " 'Indian Rock Python',\n",
       " 'King Cobra',\n",
       " 'Monocled Cobra',\n",
       " \"Russell's Viper\",\n",
       " 'Saw-scaled Viper',\n",
       " 'Spectacled Cobra']"
      ]
     },
     "execution_count": 2,
     "metadata": {},
     "output_type": "execute_result"
    }
   ],
   "source": [
    "data = tf.keras.preprocessing.image_dataset_from_directory(\"./data\",shuffle=True,\n",
    "        batch_size=32, image_size=(299,299))\n",
    "label = data.class_names\n",
    "label"
   ]
  },
  {
   "cell_type": "code",
   "execution_count": 3,
   "metadata": {},
   "outputs": [
    {
     "name": "stdout",
     "output_type": "stream",
     "text": [
      "(32, 299, 299, 3)\n",
      "[10  3  7  0 12 12  7 12  9  9  3  9  9  8 11 10 10 10  8  7  0  4  1  7\n",
      "  7  5 10  3 11  5  7  1]\n"
     ]
    }
   ],
   "source": [
    "import numpy as np\n",
    "for image_batch, labels_batch in data.take(1):\n",
    "    print(image_batch.shape)\n",
    "    print(labels_batch.numpy())"
   ]
  },
  {
   "cell_type": "code",
   "execution_count": 4,
   "metadata": {},
   "outputs": [
    {
     "data": {
      "text/plain": [
       "(11, 44)"
      ]
     },
     "execution_count": 4,
     "metadata": {},
     "output_type": "execute_result"
    }
   ],
   "source": [
    "# train-test split\n",
    "train_size = int(0.8*len(data))\n",
    "test_size = int(0.2*len(data))\n",
    "test_size, train_size"
   ]
  },
  {
   "cell_type": "markdown",
   "metadata": {},
   "source": [
    "Training The model"
   ]
  },
  {
   "cell_type": "code",
   "execution_count": 5,
   "metadata": {},
   "outputs": [],
   "source": [
    "def get_dataset_partisions_tf(ds, train_split=0.8, test_split=0.2, shuffle=True, shuffle_size = 10000):\n",
    "    if shuffle:\n",
    "        ds = ds.shuffle(shuffle_size, seed=12)\n",
    "    train_size = int(train_split * len(ds))\n",
    "    test_size = int(test_split * len(ds))\n",
    "    train_ds = ds.take(train_size)\n",
    "    test_ds = ds.skip(train_size)\n",
    "    val_ds = test_ds.skip(test_size)\n",
    "    test_ds = test_ds.take(test_size)\n",
    "    return train_ds, test_ds, val_ds"
   ]
  },
  {
   "cell_type": "code",
   "execution_count": 6,
   "metadata": {},
   "outputs": [
    {
     "data": {
      "text/plain": [
       "(44, 11, 1)"
      ]
     },
     "execution_count": 6,
     "metadata": {},
     "output_type": "execute_result"
    }
   ],
   "source": [
    "train_ds, test_ds, val_ds = get_dataset_partisions_tf(data)\n",
    "len(train_ds), len(test_ds), len(val_ds)"
   ]
  },
  {
   "cell_type": "code",
   "execution_count": 7,
   "metadata": {},
   "outputs": [
    {
     "name": "stdout",
     "output_type": "stream",
     "text": [
      "WARNING:tensorflow:From C:\\Users\\Ajay\\AppData\\Roaming\\Python\\Python311\\site-packages\\keras\\src\\backend.py:873: The name tf.get_default_graph is deprecated. Please use tf.compat.v1.get_default_graph instead.\n",
      "\n"
     ]
    }
   ],
   "source": [
    "resize_and_rescale = tf.keras.Sequential([\n",
    "    tf.keras.layers.experimental.preprocessing.Resizing(299, 299),\n",
    "    tf.keras.layers.experimental.preprocessing.Rescaling(1./255)\n",
    "])"
   ]
  },
  {
   "cell_type": "code",
   "execution_count": 8,
   "metadata": {},
   "outputs": [
    {
     "name": "stdout",
     "output_type": "stream",
     "text": [
      "WARNING:tensorflow:From C:\\Users\\Ajay\\AppData\\Roaming\\Python\\Python311\\site-packages\\keras\\src\\layers\\normalization\\batch_normalization.py:979: The name tf.nn.fused_batch_norm is deprecated. Please use tf.compat.v1.nn.fused_batch_norm instead.\n",
      "\n",
      "Downloading data from https://storage.googleapis.com/tensorflow/keras-applications/inception_v3/inception_v3_weights_tf_dim_ordering_tf_kernels_notop.h5\n",
      "87910968/87910968 [==============================] - 7s 0us/step\n"
     ]
    }
   ],
   "source": [
    "base_model = tf.keras.applications.InceptionV3(\n",
    "    weights='imagenet',\n",
    "    input_shape=(299, 299, 3),\n",
    "    include_top=False,\n",
    "    pooling='avg',\n",
    "    classifier_activation='softmax',\n",
    "    classes=len(label)\n",
    ")"
   ]
  },
  {
   "cell_type": "code",
   "execution_count": 9,
   "metadata": {},
   "outputs": [
    {
     "name": "stdout",
     "output_type": "stream",
     "text": [
      "WARNING:tensorflow:From C:\\Users\\Ajay\\AppData\\Roaming\\Python\\Python311\\site-packages\\keras\\src\\optimizers\\__init__.py:309: The name tf.train.Optimizer is deprecated. Please use tf.compat.v1.train.Optimizer instead.\n",
      "\n",
      "Model: \"model\"\n",
      "_________________________________________________________________\n",
      " Layer (type)                Output Shape              Param #   \n",
      "=================================================================\n",
      " input_2 (InputLayer)        [(None, 299, 299, 3)]     0         \n",
      "                                                                 \n",
      " sequential (Sequential)     (None, 299, 299, 3)       0         \n",
      "                                                                 \n",
      " inception_v3 (Functional)   (None, 2048)              21802784  \n",
      "                                                                 \n",
      " dense (Dense)               (None, 128)               262272    \n",
      "                                                                 \n",
      " dropout (Dropout)           (None, 128)               0         \n",
      "                                                                 \n",
      " dense_1 (Dense)             (None, 13)                1677      \n",
      "                                                                 \n",
      "=================================================================\n",
      "Total params: 22066733 (84.18 MB)\n",
      "Trainable params: 263949 (1.01 MB)\n",
      "Non-trainable params: 21802784 (83.17 MB)\n",
      "_________________________________________________________________\n",
      "Epoch 1/20\n",
      "WARNING:tensorflow:From C:\\Users\\Ajay\\AppData\\Roaming\\Python\\Python311\\site-packages\\keras\\src\\utils\\tf_utils.py:492: The name tf.ragged.RaggedTensorValue is deprecated. Please use tf.compat.v1.ragged.RaggedTensorValue instead.\n",
      "\n",
      "WARNING:tensorflow:From C:\\Users\\Ajay\\AppData\\Roaming\\Python\\Python311\\site-packages\\keras\\src\\engine\\base_layer_utils.py:384: The name tf.executing_eagerly_outside_functions is deprecated. Please use tf.compat.v1.executing_eagerly_outside_functions instead.\n",
      "\n",
      "44/44 [==============================] - 170s 3s/step - loss: 1.6086 - accuracy: 0.4685 - val_loss: 1.3342 - val_accuracy: 0.5000\n",
      "Epoch 2/20\n",
      "44/44 [==============================] - 150s 3s/step - loss: 1.0993 - accuracy: 0.6153 - val_loss: 0.7603 - val_accuracy: 0.7188\n",
      "Epoch 3/20\n",
      "44/44 [==============================] - 142s 3s/step - loss: 0.9689 - accuracy: 0.6497 - val_loss: 0.8302 - val_accuracy: 0.5938\n",
      "Epoch 4/20\n",
      "44/44 [==============================] - 136s 3s/step - loss: 0.8343 - accuracy: 0.7099 - val_loss: 0.6434 - val_accuracy: 0.7812\n",
      "Epoch 5/20\n",
      "44/44 [==============================] - 140s 3s/step - loss: 0.7583 - accuracy: 0.7337 - val_loss: 0.6680 - val_accuracy: 0.7500\n",
      "Epoch 6/20\n",
      "44/44 [==============================] - 138s 3s/step - loss: 0.7005 - accuracy: 0.7536 - val_loss: 0.4328 - val_accuracy: 0.9062\n",
      "Epoch 7/20\n",
      "44/44 [==============================] - 139s 3s/step - loss: 0.6268 - accuracy: 0.7791 - val_loss: 0.5078 - val_accuracy: 0.8438\n",
      "Epoch 8/20\n",
      "44/44 [==============================] - 146s 3s/step - loss: 0.5698 - accuracy: 0.7980 - val_loss: 0.5439 - val_accuracy: 0.8125\n",
      "Epoch 9/20\n",
      "44/44 [==============================] - 147s 3s/step - loss: 0.5195 - accuracy: 0.8295 - val_loss: 0.1976 - val_accuracy: 0.9688\n",
      "Epoch 10/20\n",
      "44/44 [==============================] - 153s 3s/step - loss: 0.4881 - accuracy: 0.8217 - val_loss: 0.2422 - val_accuracy: 0.9688\n",
      "Epoch 11/20\n",
      "44/44 [==============================] - 145s 3s/step - loss: 0.4401 - accuracy: 0.8509 - val_loss: 0.5094 - val_accuracy: 0.9062\n",
      "Epoch 12/20\n",
      "44/44 [==============================] - 147s 3s/step - loss: 0.4011 - accuracy: 0.8651 - val_loss: 0.2874 - val_accuracy: 0.9062\n",
      "Epoch 13/20\n",
      "44/44 [==============================] - 140s 3s/step - loss: 0.3912 - accuracy: 0.8643 - val_loss: 0.1634 - val_accuracy: 0.9688\n",
      "Epoch 14/20\n",
      "44/44 [==============================] - 137s 3s/step - loss: 0.3490 - accuracy: 0.8804 - val_loss: 0.2087 - val_accuracy: 0.9375\n",
      "Epoch 15/20\n",
      "44/44 [==============================] - 136s 3s/step - loss: 0.3280 - accuracy: 0.8954 - val_loss: 0.1880 - val_accuracy: 0.9062\n",
      "Epoch 16/20\n",
      "44/44 [==============================] - 135s 3s/step - loss: 0.3284 - accuracy: 0.8947 - val_loss: 0.2836 - val_accuracy: 0.9375\n",
      "Epoch 17/20\n",
      "44/44 [==============================] - 134s 3s/step - loss: 0.3345 - accuracy: 0.8847 - val_loss: 0.1874 - val_accuracy: 0.9688\n",
      "Epoch 18/20\n",
      "44/44 [==============================] - 133s 3s/step - loss: 0.2649 - accuracy: 0.9155 - val_loss: 0.3494 - val_accuracy: 0.9062\n",
      "Epoch 19/20\n",
      "44/44 [==============================] - 145s 3s/step - loss: 0.2524 - accuracy: 0.9198 - val_loss: 0.1487 - val_accuracy: 0.9375\n",
      "Epoch 20/20\n",
      "44/44 [==============================] - 157s 3s/step - loss: 0.2536 - accuracy: 0.9105 - val_loss: 0.1614 - val_accuracy: 0.9375\n"
     ]
    }
   ],
   "source": [
    "base_model.trainable = False\n",
    "\n",
    "inputs = tf.keras.Input(shape=(299, 299, 3))\n",
    "x = resize_and_rescale(inputs)\n",
    "x = base_model(x, training=False)\n",
    "x = tf.keras.layers.Dense(128, activation='relu')(x)\n",
    "x = tf.keras.layers.Dropout(0.2)(x)\n",
    "outputs = tf.keras.layers.Dense(len(label), activation='softmax')(x)\n",
    "model = tf.keras.Model(inputs, outputs)\n",
    "\n",
    "model.compile(\n",
    "    optimizer='adam',\n",
    "    loss='sparse_categorical_crossentropy',\n",
    "    metrics=['accuracy']\n",
    ")\n",
    "\n",
    "model.summary()\n",
    "\n",
    "history = model.fit(\n",
    "    train_ds,\n",
    "    validation_data=val_ds,\n",
    "    batch_size=32,\n",
    "    epochs=20\n",
    ")"
   ]
  },
  {
   "cell_type": "code",
   "execution_count": 10,
   "metadata": {},
   "outputs": [
    {
     "name": "stdout",
     "output_type": "stream",
     "text": [
      "11/11 [==============================] - 39s 3s/step - loss: 0.1470 - accuracy: 0.9676\n"
     ]
    },
    {
     "data": {
      "text/plain": [
       "[0.14704987406730652, 0.9676470756530762]"
      ]
     },
     "execution_count": 10,
     "metadata": {},
     "output_type": "execute_result"
    }
   ],
   "source": [
    "model.evaluate(test_ds)"
   ]
  },
  {
   "cell_type": "code",
   "execution_count": 11,
   "metadata": {},
   "outputs": [
    {
     "data": {
      "image/png": "[encoded data removed]",
      "text/plain": [
       "<Figure size 640x480 with 1 Axes>"
      ]
     },
     "metadata": {},
     "output_type": "display_data"
    }
   ],
   "source": [
    "# plot accuracy and loss\n",
    "import matplotlib.pyplot as plt\n",
    "\n",
    "plt.plot(history.history['accuracy'])\n",
    "plt.plot(history.history['val_accuracy'])\n",
    "\n",
    "plt.title('model accuracy')\n",
    "plt.ylabel('accuracy')\n",
    "plt.xlabel('epoch')\n",
    "plt.legend(['train', 'val'], loc='upper left')\n",
    "plt.show()"
   ]
  },
  {
   "cell_type": "code",
   "execution_count": 12,
   "metadata": {},
   "outputs": [
    {
     "name": "stderr",
     "output_type": "stream",
     "text": [
      "C:\\Users\\Ajay\\AppData\\Roaming\\Python\\Python311\\site-packages\\keras\\src\\engine\\training.py:3103: UserWarning: You are saving your model as an HDF5 file via `model.save()`. This file format is considered legacy. We recommend using instead the native Keras format, e.g. `model.save('my_model.keras')`.\n",
      "  saving_api.save_model(\n"
     ]
    }
   ],
   "source": [
    "model.save('snakespecies.h5')"
   ]
  },
  {
   "cell_type": "code",
   "execution_count": null,
   "metadata": {},
   "outputs": [],
   "source": [
    "# train using Xception\n",
    "base_model = tf.keras.applications.InceptionV3(\n",
    "    weights='imagenet',\n",
    "    input_shape=(299, 299, 3),\n",
    "    include_top=False,\n",
    "    pooling='avg',\n",
    "    classifier_activation='softmax',\n",
    "    classes=len(label)\n",
    ")"
   ]
  }
 ],
 "metadata": {
  "kernelspec": {
   "display_name": "Python 3",
   "language": "python",
   "name": "python3"
  },
  "language_info": {
   "codemirror_mode": {
    "name": "ipython",
    "version": 3
   },
   "file_extension": ".py",
   "mimetype": "text/x-python",
   "name": "python",
   "nbconvert_exporter": "python",
   "pygments_lexer": "ipython3",
   "version": "3.11.4"
  }
 },
 "nbformat": 4,
 "nbformat_minor": 2
}
